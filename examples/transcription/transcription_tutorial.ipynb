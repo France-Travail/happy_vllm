{
 "cells": [
  {
   "cell_type": "code",
   "execution_count": null,
   "id": "03269354-1f22-4ef9-9eb9-b1825bc95724",
   "metadata": {},
   "outputs": [],
   "source": [
    "from IPython.display import Image, display, Audio, Markdown\n",
    "\n",
    "audio_path = \"/examples/transcription/data/audio.mp4\""
   ]
  },
  {
   "cell_type": "code",
   "execution_count": null,
   "id": "4b58fd68-7dbf-49eb-9b9e-03a93dd70a3e",
   "metadata": {},
   "outputs": [],
   "source": [
    "import os\n",
    "import requests\n",
    "\n",
    "# Configuration\n",
    "URL = os.getenv('HOST')+':'+os.getenv('PORT')+'/'+os.getenv('API_ENDPOINT_PREFIX')\n",
    "ENDPOINT = \"/v1/audio/transcription\"\n",
    "\n",
    "# data for the request\n",
    "with open(audio_path, 'rb') as f:\n",
    "  data = {\n",
    "    \"model\": \"my_model\",\n",
    "    \"temperature\" : 0.0,\n",
    "    \"language\": 'fr'\n",
    "  }\n",
    "# Try to send the request\n",
    "try:\n",
    "    response = requests.post(URL+ENDPOINT, json=data, files={'file': f})\n",
    "    response.raise_for_status()  # An HTTPError will be raised if an unsuccessful status code is returned\n",
    "except requests.RequestException as e:\n",
    "    raise SystemExit(f\"Failed to make the request. Error: {e}\")\n",
    "\n",
    "# Print the response\n",
    "print(response.json())"
   ]
  }
 ],
 "metadata": {
  "kernelspec": {
   "display_name": "Python 3 (ipykernel)",
   "language": "python",
   "name": "python3"
  },
  "language_info": {
   "codemirror_mode": {
    "name": "ipython",
    "version": 3
   },
   "file_extension": ".py",
   "mimetype": "text/x-python",
   "name": "python",
   "nbconvert_exporter": "python",
   "pygments_lexer": "ipython3",
   "version": "3.10.12"
  }
 },
 "nbformat": 4,
 "nbformat_minor": 5
}
