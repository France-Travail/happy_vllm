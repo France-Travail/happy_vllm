{
 "cells": [
  {
   "cell_type": "code",
   "execution_count": null,
   "id": "03269354-1f22-4ef9-9eb9-b1825bc95724",
   "metadata": {},
   "outputs": [],
   "source": [
    "from IPython.display import Image, display, Audio, Markdown\n",
    "from image_input import ImageInput\n",
    "\n",
    "List_image_path = [\"/path/image1.png\"]\n",
    "\n",
    "# Preview image for context\n",
    "display(Image(List_image_path[0]))\n",
    "\n",
    "# Open the image file and encode it as a base64 string\n",
    "\n",
    "image_input = ImageInput(List_image_path)\n",
    "image_base64 = image_input.encode()\n",
    "image_extension = image_input.extension()"
   ]
  },
  {
   "cell_type": "code",
   "execution_count": null,
   "id": "4b58fd68-7dbf-49eb-9b9e-03a93dd70a3e",
   "metadata": {},
   "outputs": [],
   "source": [
    "import os\n",
    "import requests\n",
    "from dotenv import load_dotenv\n",
    "\n",
    "load_dotenv()\n",
    "\n",
    "# Configuration\n",
    "URL = os.getenv('HOST')+':'+os.getenv('PORT')+'/'+os.getenv('API_ENDPOINT_PREFIX')\n",
    "ENDPOINT = \"/v1/chat/completions\"\n",
    "\n",
    "# data for the request\n",
    "data = f'''{{\n",
    "    \"messages\": [\n",
    "      {{\n",
    "        \"role\": \"user\",\n",
    "        \"content\": [\n",
    "            {{\"type\": \"text\", \"text\": \"Summarize all the information included in this image.\"}},\n",
    "            {{\n",
    "                \"type\": \"image_url\",\n",
    "                \"image_url\": {{\n",
    "                    \"url\": \"data:image/{image_extension[0]};base64,{image_base64[0]}\"\n",
    "                }}\n",
    "            }}\n",
    "         ]\n",
    "      }}\n",
    "    ],\n",
    "    \"model\": \"llava-v1.6-mistral-7b-hf\",\n",
    "    \"max_tokens\": 1024,\n",
    "    \"temperature\":0.0\n",
    "  }}'''\n",
    "\n",
    "# Try to send the request\n",
    "try:\n",
    "    response = requests.post(URL+ENDPOINT, data=data)\n",
    "    response.raise_for_status()  # An HTTPError will be raised if an unsuccessful status code is returned\n",
    "except requests.RequestException as e:\n",
    "    raise SystemExit(f\"Failed to make the request. Error: {e}\")\n",
    "\n",
    "# Print the response\n",
    "print(response.json())"
   ]
  },
  {
   "cell_type": "code",
   "execution_count": null,
   "id": "6b2b2993-bda7-4e63-a7c5-758edbf2e2fd",
   "metadata": {},
   "outputs": [],
   "source": []
  },
  {
   "cell_type": "code",
   "execution_count": null,
   "id": "922fdc66-8842-45fa-aad5-de2427423142",
   "metadata": {},
   "outputs": [],
   "source": []
  }
 ],
 "metadata": {
  "kernelspec": {
   "display_name": "Python 3 (ipykernel)",
   "language": "python",
   "name": "python3"
  },
  "language_info": {
   "codemirror_mode": {
    "name": "ipython",
    "version": 3
   },
   "file_extension": ".py",
   "mimetype": "text/x-python",
   "name": "python",
   "nbconvert_exporter": "python",
   "pygments_lexer": "ipython3",
   "version": "3.10.12"
  }
 },
 "nbformat": 4,
 "nbformat_minor": 5
}
